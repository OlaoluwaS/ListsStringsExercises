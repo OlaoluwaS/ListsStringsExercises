{
 "cells": [
  {
   "cell_type": "markdown",
   "metadata": {},
   "source": [
    "## List Exerises"
   ]
  },
  {
   "cell_type": "code",
   "execution_count": 5,
   "metadata": {},
   "outputs": [],
   "source": [
    "subjects = [\"maths\",\"english\",\"biology\", \"physics\", \"chemistry\"]"
   ]
  },
  {
   "cell_type": "code",
   "execution_count": 55,
   "metadata": {},
   "outputs": [
    {
     "name": "stdout",
     "output_type": "stream",
     "text": [
      "english\n",
      "physics\n"
     ]
    }
   ],
   "source": [
    "# 1 - print values with even array index value\n",
    "\n",
    "for index in range(len(subjects)):\n",
    "    even = index%2\n",
    "    if even == 1:\n",
    "        #not python even\n",
    "        #even == 0 to get python even\n",
    "        print (subjects[index])"
   ]
  },
  {
   "cell_type": "code",
   "execution_count": 56,
   "metadata": {},
   "outputs": [
    {
     "name": "stdout",
     "output_type": "stream",
     "text": [
      "english\n"
     ]
    }
   ],
   "source": [
    "# 2 - randomly pick one \"box\" and print its value\n",
    "import random\n",
    "#subjects = [\"maths\",\"english\",\"biology\", \"physics\", \"chemistry\"]\n",
    "print (random.choice(subjects))"
   ]
  },
  {
   "cell_type": "code",
   "execution_count": 57,
   "metadata": {},
   "outputs": [
    {
     "name": "stdout",
     "output_type": "stream",
     "text": [
      "['chemistry', 'physics', 'biology', 'english', 'maths']\n"
     ]
    }
   ],
   "source": [
    "# 3 - use a for loop backwards to print a list backwards\n",
    "#subjects = [\"maths\",\"english\",\"biology\", \"physics\", \"chemistry\"]\n",
    "\n",
    "print (subjects[::-1])"
   ]
  },
  {
   "cell_type": "code",
   "execution_count": 58,
   "metadata": {},
   "outputs": [
    {
     "name": "stdout",
     "output_type": "stream",
     "text": [
      "s\n",
      "e\n",
      "o\n",
      "i\n",
      "r\n"
     ]
    }
   ],
   "source": [
    "# 5 - through a list of word, print a random letter of each word\n",
    "import random \n",
    "#subjects = [\"maths\",\"english\",\"biology\", \"physics\", \"chemistry\"]\n",
    "for index in (subjects):\n",
    "    print(random.choice(index))"
   ]
  },
  {
   "cell_type": "code",
   "execution_count": 59,
   "metadata": {},
   "outputs": [
    {
     "name": "stdout",
     "output_type": "stream",
     "text": [
      "s\n",
      "h\n",
      "y\n",
      "s\n",
      "y\n"
     ]
    }
   ],
   "source": [
    "# 4 - step through a list of words, print the last letter of each word\n",
    "#subjects = [\"maths\",\"english\",\"biology\", \"physics\", \"chemistry\"]\n",
    "for index in (subjects):\n",
    "    print(index[-1])"
   ]
  },
  {
   "cell_type": "markdown",
   "metadata": {},
   "source": [
    "## List Operations"
   ]
  },
  {
   "cell_type": "code",
   "execution_count": 65,
   "metadata": {},
   "outputs": [
    {
     "name": "stdout",
     "output_type": "stream",
     "text": [
      "['maths', 'english', 'biology', 'physics']\n"
     ]
    }
   ],
   "source": [
    "#.pop() - deletes items from a list; if you add an index value, it will delete that item\n",
    "\n",
    "#subjects = [\"maths\",\"english\",\"biology\", \"physics\", \"chemistry\"]\n",
    "subjects.pop()\n",
    "print(subjects)"
   ]
  },
  {
   "cell_type": "markdown",
   "metadata": {},
   "source": [
    "The .pop() method deletes items from a list from the end of the list but if you add an index value it will delete the corrosponding item"
   ]
  },
  {
   "cell_type": "code",
   "execution_count": 81,
   "metadata": {},
   "outputs": [
    {
     "name": "stdout",
     "output_type": "stream",
     "text": [
      "['maths', 'english', 'physics', 'chemistry']\n"
     ]
    }
   ],
   "source": [
    "#del- deletes whole list; deletes specific items from a list\n",
    "\n",
    "#subjects = [\"maths\",\"english\",\"biology\", \"physics\", \"chemistry\"]\n",
    "del subjects [2]\n",
    "print(subjects)"
   ]
  },
  {
   "cell_type": "markdown",
   "metadata": {},
   "source": [
    "The del method will delete the whole list or deletes specific items from a list when an index value is inputted "
   ]
  },
  {
   "cell_type": "code",
   "execution_count": 77,
   "metadata": {},
   "outputs": [
    {
     "name": "stdout",
     "output_type": "stream",
     "text": [
      "['maths', 'english', 'biology', 'physics', 'chemistry', 'a', 'r', 't']\n"
     ]
    }
   ],
   "source": [
    "#.extend() - adds the individual letters of a word to the end list \n",
    "\n",
    "subjects = [\"maths\",\"english\",\"biology\", \"physics\", \"chemistry\"]\n",
    "subjects.extend(\"art\")\n",
    "print (subjects)"
   ]
  },
  {
   "cell_type": "markdown",
   "metadata": {},
   "source": [
    "The .extend() method adds the letters of an item to the end of a list "
   ]
  },
  {
   "cell_type": "code",
   "execution_count": 66,
   "metadata": {},
   "outputs": [
    {
     "name": "stdout",
     "output_type": "stream",
     "text": [
      "['maths', 'english', 'biology', 'physics', 'chemistry', 'french']\n"
     ]
    }
   ],
   "source": [
    "#.append() - adds items to the end of a list\n",
    "\n",
    "#subjects = [\"maths\",\"english\",\"biology\", \"physics\", \"chemistry\"]\n",
    "subjects.append(\"french\")\n",
    "print(subjects)"
   ]
  },
  {
   "cell_type": "markdown",
   "metadata": {},
   "source": [
    "The .append() method adds items to the end of a list "
   ]
  },
  {
   "cell_type": "code",
   "execution_count": 73,
   "metadata": {},
   "outputs": [
    {
     "name": "stdout",
     "output_type": "stream",
     "text": [
      "[3, 'maths', 'english', 'biology', 'physics', 'chemistry']\n"
     ]
    }
   ],
   "source": [
    "#.insert(i,x) - adds item to the list\n",
    "\n",
    "#subjects = [\"maths\",\"english\",\"biology\", \"physics\", \"chemistry\"]\n",
    "subjects.insert(-5,3)\n",
    "print(subjects)"
   ]
  },
  {
   "cell_type": "markdown",
   "metadata": {},
   "source": [
    "The insert(i,x) method adds items to the list. The value \"i\" indicates the position of where the item should go - \"- 5\" means five spaces before the last item in the list. The value \"x\" indicates what item will be added to the list."
   ]
  },
  {
   "cell_type": "code",
   "execution_count": 7,
   "metadata": {},
   "outputs": [
    {
     "name": "stdout",
     "output_type": "stream",
     "text": [
      "['maths', 'english', 'art', 'physics', 'chemistry']\n"
     ]
    }
   ],
   "source": [
    "#replace - two-step code\n",
    "\n",
    "import random \n",
    "subjects = [\"maths\",\"english\",\"biology\", \"physics\", \"chemistry\"]\n",
    "x = random.randint(0,len(subjects)-1)\n",
    "subjects[x] = \"art\"\n",
    "print (subjects)\n",
    "    \n"
   ]
  },
  {
   "cell_type": "markdown",
   "metadata": {},
   "source": [
    "The replace takes the index of an item in the list and replaces it with another word/item"
   ]
  },
  {
   "cell_type": "code",
   "execution_count": 7,
   "metadata": {},
   "outputs": [
    {
     "name": "stdout",
     "output_type": "stream",
     "text": [
      "1\n"
     ]
    }
   ],
   "source": [
    "#index\n",
    "#subjects = [\"maths\",\"english\",\"biology\", \"physics\", \"chemistry\"]\n",
    "x= subjects.index(\"english\")\n",
    "print (x)"
   ]
  },
  {
   "cell_type": "markdown",
   "metadata": {},
   "source": [
    "The index() method takes a item and returns the position in the list. Note: the first item is in position 0"
   ]
  },
  {
   "cell_type": "markdown",
   "metadata": {},
   "source": [
    "## Temperature Exercise "
   ]
  },
  {
   "cell_type": "code",
   "execution_count": null,
   "metadata": {},
   "outputs": [],
   "source": [
    "temperature =[16,13,12,15,14,12,11,20,12,19,12,12,17,12,12]"
   ]
  },
  {
   "cell_type": "code",
   "execution_count": 24,
   "metadata": {},
   "outputs": [
    {
     "name": "stdout",
     "output_type": "stream",
     "text": [
      "[16, 13, 12, 15, 14, 12, 11, 20, 12, 19, 12, 12, 17, 12, 12, 7, 7, 7]\n"
     ]
    }
   ],
   "source": [
    "#Add a 5 between the 20 and the 12\n",
    "\n",
    "temperature.insert(-7,5)\n",
    "print(temperature)"
   ]
  },
  {
   "cell_type": "code",
   "execution_count": 27,
   "metadata": {},
   "outputs": [
    {
     "name": "stdout",
     "output_type": "stream",
     "text": [
      "[16, 13, 12, 15, 14, 12, 11, 20, 12, 19, 12, 12, 17, 12, 12, 7, 7, 7]\n"
     ]
    }
   ],
   "source": [
    "#Add three 7s to the end of the list\n",
    "#temperature =[16,13,12,15,14,12,11,20,12,19,12,12,17,12,12]\n",
    "temperature.extend([7,7,7])\n",
    "print (temperature)"
   ]
  },
  {
   "cell_type": "code",
   "execution_count": 29,
   "metadata": {},
   "outputs": [
    {
     "name": "stdout",
     "output_type": "stream",
     "text": [
      "[16, 13, 12, 15, 14, 12, 20, 12, 19, 12, 12, 17, 12, 12]\n"
     ]
    }
   ],
   "source": [
    "#remove 11\n",
    "#temperature =[16,13,12,15,14,12,11,20,12,19,12,12,17,12,12]\n",
    "temperature.remove(11)\n",
    "print(temperature)"
   ]
  },
  {
   "cell_type": "code",
   "execution_count": 33,
   "metadata": {},
   "outputs": [
    {
     "name": "stdout",
     "output_type": "stream",
     "text": [
      "[17, 13, 12, 15, 14, 12, 11, 20, 12, 19, 12, 12, 17, 12, 12]\n"
     ]
    }
   ],
   "source": [
    "#Swap the 16 with the 17\n",
    "#temperature =[16,13,12,15,14,12,11,20,12,19,12,12,17,12,12]\n",
    "temperature[0]= (17)\n",
    "print (temperature)"
   ]
  },
  {
   "cell_type": "code",
   "execution_count": 4,
   "metadata": {},
   "outputs": [
    {
     "name": "stdout",
     "output_type": "stream",
     "text": [
      "[16, 13, 15, 14, 11, 20, 19, 17]\n"
     ]
    }
   ],
   "source": [
    "#Remove all occurences of 12\n",
    "#temperature =[16,13,12,15,14,12,11,20,12,19,12,12,17,12,12]\n",
    "while 12 in temperature:\n",
    "    temperature.remove(12)\n",
    "print (temperature)\n",
    "\n"
   ]
  },
  {
   "cell_type": "markdown",
   "metadata": {},
   "source": [
    "## String Exercises "
   ]
  },
  {
   "cell_type": "code",
   "execution_count": 177,
   "metadata": {
    "scrolled": true
   },
   "outputs": [
    {
     "name": "stdout",
     "output_type": "stream",
     "text": [
      "J\n",
      "The frequency of j = 0\n"
     ]
    }
   ],
   "source": [
    "#choose a random letter in the alphabet\n",
    "import string \n",
    "import random\n",
    "freq = 0\n",
    "\n",
    "randomletter = \"\"\n",
    "alphabet = string.ascii_lowercase\n",
    "#print (alphabet)\n",
    "randomletter=randomletter.join(random.choice(alphabet))\n",
    "print (randomletter.upper())\n",
    "\n",
    "#counts the frequency of that random letter in the word:PSEUDOPSEUDOHYPOPARATHYROIDISM\n",
    "\n",
    "word = \"PSEUDOPSEUDOHYPOPARATHYROIDISM\"\n",
    "\n",
    "for i in word:\n",
    "    if i == randomletter.upper():\n",
    "        freq = freq+1\n",
    "print (\"The frequency of \" + randomletter + \" = \" +str(freq))\n",
    "   "
   ]
  }
 ],
 "metadata": {
  "kernelspec": {
   "display_name": "Python 3",
   "language": "python",
   "name": "python3"
  },
  "language_info": {
   "codemirror_mode": {
    "name": "ipython",
    "version": 3
   },
   "file_extension": ".py",
   "mimetype": "text/x-python",
   "name": "python",
   "nbconvert_exporter": "python",
   "pygments_lexer": "ipython3",
   "version": "3.5.2"
  }
 },
 "nbformat": 4,
 "nbformat_minor": 2
}
